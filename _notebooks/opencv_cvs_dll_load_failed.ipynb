{
 "cells": [
  {
   "cell_type": "markdown",
   "id": "6973dcb4-2e8a-409c-a147-291c8520fb18",
   "metadata": {},
   "source": [
    "# ImportError: DLL load failed while importing cv2: The specified module could not be found.\n",
    "> Fix common OpenCV python DLL load failed error when building python bindings from source\n",
    "\n",
    "- toc: true \n",
    "- badges: true\n",
    "- comments: true\n",
    "- sticky_rank: 1\n",
    "- author: cudawarped\n",
    "- image: images/diagram.png\n",
    "- categories: [opencv, cuda, python]"
   ]
  },
  {
   "cell_type": "markdown",
   "id": "0f79e94d-bc84-4f09-a4a9-90be2e41388e",
   "metadata": {},
   "source": [
    "So your on Windows using python >= 3.8, you have built OpenCV >= 4.6 from source, manually copied .. python path them to your distributions site... directory, added the path to the directory containing opencv.dll and any other shared library dependencies and your seeing something similar to the following."
   ]
  },
  {
   "cell_type": "code",
   "execution_count": 1,
   "id": "53efd81a",
   "metadata": {},
   "outputs": [
    {
     "ename": "ModuleNotFoundError",
     "evalue": "No module named 'cv2'",
     "output_type": "error",
     "traceback": [
      "\u001b[1;31m---------------------------------------------------------------------------\u001b[0m",
      "\u001b[1;31mModuleNotFoundError\u001b[0m                       Traceback (most recent call last)",
      "Input \u001b[1;32mIn [1]\u001b[0m, in \u001b[0;36m<cell line: 3>\u001b[1;34m()\u001b[0m\n\u001b[0;32m      1\u001b[0m \u001b[38;5;66;03m#import os\u001b[39;00m\n\u001b[0;32m      2\u001b[0m \u001b[38;5;66;03m#os.environ[\"OpenCV_LOADER_DEBUG\"]=\"1\"\u001b[39;00m\n\u001b[1;32m----> 3\u001b[0m \u001b[38;5;28;01mimport\u001b[39;00m \u001b[38;5;21;01mcv2\u001b[39;00m\n",
      "\u001b[1;31mModuleNotFoundError\u001b[0m: No module named 'cv2'"
     ]
    }
   ],
   "source": [
    "#import os\n",
    "#os.environ[\"OpenCV_LOADER_DEBUG\"]=\"1\"\n",
    "import cv2"
   ]
  },
  {
   "cell_type": "markdown",
   "id": "c1cda3f1",
   "metadata": {},
   "source": [
    "What's going on? Although the message is quite explicit regarding the cause, it doesn't really help with finding a solution. In a nutshell python has found .pyd (shared lib), tried and failed to load it because a it can't find a dependant shared library. Now the advice I have seen online regarding this is to dig out trusty dependancy walker, load the .pyd and see which dependencies the system can't find.\n",
    "\n",
    "Now this is solid advice if we had a C++ application and/or we were using python < 3.8 (which uses the system/user path for dll re), however we are not, so even if dependency walker can't detect any problems we may still be facing the above error."
   ]
  },
  {
   "cell_type": "markdown",
   "id": "18b82beb",
   "metadata": {},
   "source": [
    "There is a missing dll, which needs to be added with ... before calling import cv2, now if you have installed the python loader with OpenCV then you will likeliy need to search with .... to find it, however if you have not you may be able to try the quick fix below may work for you\n"
   ]
  },
  {
   "cell_type": "markdown",
   "id": "bfa433ce",
   "metadata": {},
   "source": [
    "### Quick fix when not using the OpenCV python loader"
   ]
  },
  {
   "cell_type": "markdown",
   "id": "d02036a5",
   "metadata": {},
   "source": [
    "Using the flag OPENCV_SKIP_PYTHON_LOADER=ON prevents the python bindings from being installed when you build install OpenCV, therefore depending on how you installed cv2 there shouldn't be a cv2 directory inside lib/site-sitepackages and you should something similar to the following"
   ]
  },
  {
   "cell_type": "markdown",
   "id": "71e1e075",
   "metadata": {},
   "source": [
    "There are multiple reasons that the OpenCV python loader may be missing\n",
    "1) You didn't build install\n",
    "\n",
    "2) OPENCV_SKIP_PYTHON_LOADER=ON was passed to cmake\n",
    "\n",
    "3) The lib/site-packages/cv2 diretory was deleted\n",
    "\n",
    "Whatever the reason if you are seeing the above error you have likely manually \"installed\" the python bindings either with\n",
    "\n",
    "1) set PYTHONPATH=\"OPENCV_BUILD_PATH/lib/python3/\"\n",
    "\n",
    "2) or by manually copying .... pyd to the lib/site-packages/\n",
    "\n",
    "Whichever way this was performed, you will be missing (unless your using a distribution which automatically adds .. directories from the path to the dll search path)\n",
    "\n",
    "os.add_dll_directory(\"OPENCV_BUID_PATH/bin/\");\n",
    "\n",
    "in this case there will be at least one dll search path which needs to be added."
   ]
  },
  {
   "cell_type": "code",
   "execution_count": 24,
   "id": "09514628",
   "metadata": {},
   "outputs": [
    {
     "ename": "ImportError",
     "evalue": "DLL load failed while importing cv2: The specified module could not be found.",
     "output_type": "error",
     "traceback": [
      "\u001b[1;31m---------------------------------------------------------------------------\u001b[0m",
      "\u001b[1;31mImportError\u001b[0m                               Traceback (most recent call last)",
      "Input \u001b[1;32mIn [24]\u001b[0m, in \u001b[0;36m<cell line: 5>\u001b[1;34m()\u001b[0m\n\u001b[0;32m      3\u001b[0m OPENCV_BUID_PATH \u001b[38;5;241m=\u001b[39m \u001b[38;5;124m\"\u001b[39m\u001b[38;5;124mD:/build/opencv/cuda_11_7_cc_8_6_ff_sym/\u001b[39m\u001b[38;5;124m\"\u001b[39m\n\u001b[0;32m      4\u001b[0m os\u001b[38;5;241m.\u001b[39madd_dll_directory(OPENCV_BUID_PATH \u001b[38;5;241m+\u001b[39m \u001b[38;5;124m\"\u001b[39m\u001b[38;5;124m/bin/\u001b[39m\u001b[38;5;124m\"\u001b[39m);\n\u001b[1;32m----> 5\u001b[0m \u001b[38;5;28;01mimport\u001b[39;00m \u001b[38;5;21;01mcv2\u001b[39;00m\n",
      "\u001b[1;31mImportError\u001b[0m: DLL load failed while importing cv2: The specified module could not be found."
     ]
    }
   ],
   "source": [
    "#collapse-output\n",
    "import os;\n",
    "OPENCV_BUID_PATH = \"D:/build/opencv/cuda_11_7_cc_8_6_ff_sym/\"\n",
    "os.add_dll_directory(OPENCV_BUID_PATH + \"/bin/\");\n",
    "import cv2"
   ]
  },
  {
   "cell_type": "markdown",
   "id": "b15a99b0",
   "metadata": {},
   "source": [
    "If that didn't work and you are using the CUDA modules you will also need to add \n",
    "os.add_dll_directory(\"C:\\\\Program Files\\\\NVIDIA GPU Computing Toolkit\\\\CUDA\\\\v11.7\\\\bin\");, if that doesn't work then you need to locate the missing dll and manually add it, seee ..."
   ]
  },
  {
   "cell_type": "code",
   "execution_count": 25,
   "id": "045f9c27",
   "metadata": {},
   "outputs": [
    {
     "ename": "ImportError",
     "evalue": "DLL load failed while importing cv2: The specified module could not be found.",
     "output_type": "error",
     "traceback": [
      "\u001b[1;31m---------------------------------------------------------------------------\u001b[0m",
      "\u001b[1;31mImportError\u001b[0m                               Traceback (most recent call last)",
      "Input \u001b[1;32mIn [25]\u001b[0m, in \u001b[0;36m<cell line: 3>\u001b[1;34m()\u001b[0m\n\u001b[0;32m      1\u001b[0m \u001b[38;5;66;03m#collapse-output\u001b[39;00m\n\u001b[0;32m      2\u001b[0m os\u001b[38;5;241m.\u001b[39madd_dll_directory(\u001b[38;5;124m\"\u001b[39m\u001b[38;5;124mC:\u001b[39m\u001b[38;5;130;01m\\\\\u001b[39;00m\u001b[38;5;124mProgram Files\u001b[39m\u001b[38;5;130;01m\\\\\u001b[39;00m\u001b[38;5;124mNVIDIA GPU Computing Toolkit\u001b[39m\u001b[38;5;130;01m\\\\\u001b[39;00m\u001b[38;5;124mCUDA\u001b[39m\u001b[38;5;130;01m\\\\\u001b[39;00m\u001b[38;5;124mv11.7\u001b[39m\u001b[38;5;130;01m\\\\\u001b[39;00m\u001b[38;5;124mbin\u001b[39m\u001b[38;5;124m\"\u001b[39m);\n\u001b[1;32m----> 3\u001b[0m \u001b[38;5;28;01mimport\u001b[39;00m \u001b[38;5;21;01mcv2\u001b[39;00m\n",
      "\u001b[1;31mImportError\u001b[0m: DLL load failed while importing cv2: The specified module could not be found."
     ]
    }
   ],
   "source": [
    "#collapse-output\n",
    "os.add_dll_directory(\"C:\\\\Program Files\\\\NVIDIA GPU Computing Toolkit\\\\CUDA\\\\v11.7\\\\bin\");\n",
    "import cv2"
   ]
  },
  {
   "cell_type": "code",
   "execution_count": 13,
   "id": "9eb31868",
   "metadata": {},
   "outputs": [
    {
     "ename": "FileNotFoundError",
     "evalue": "[WinError 3] The system cannot find the path specified: 'C:\\\\Users\\\\b\\\\mambaforge\\\\Lib\\\\site-packages/cv2'",
     "output_type": "error",
     "traceback": [
      "\u001b[1;31m---------------------------------------------------------------------------\u001b[0m",
      "\u001b[1;31mFileNotFoundError\u001b[0m                         Traceback (most recent call last)",
      "Input \u001b[1;32mIn [13]\u001b[0m, in \u001b[0;36m<cell line: 3>\u001b[1;34m()\u001b[0m\n\u001b[0;32m      1\u001b[0m \u001b[38;5;28;01mimport\u001b[39;00m \u001b[38;5;21;01msysconfig\u001b[39;00m\n\u001b[0;32m      2\u001b[0m \u001b[38;5;28;01mimport\u001b[39;00m \u001b[38;5;21;01mos\u001b[39;00m\n\u001b[1;32m----> 3\u001b[0m \u001b[43mos\u001b[49m\u001b[38;5;241;43m.\u001b[39;49m\u001b[43mlistdir\u001b[49m\u001b[43m(\u001b[49m\u001b[43msysconfig\u001b[49m\u001b[38;5;241;43m.\u001b[39;49m\u001b[43mget_paths\u001b[49m\u001b[43m(\u001b[49m\u001b[43m)\u001b[49m\u001b[43m[\u001b[49m\u001b[38;5;124;43m\"\u001b[39;49m\u001b[38;5;124;43mpurelib\u001b[39;49m\u001b[38;5;124;43m\"\u001b[39;49m\u001b[43m]\u001b[49m\u001b[38;5;241;43m+\u001b[39;49m\u001b[38;5;124;43m\"\u001b[39;49m\u001b[38;5;124;43m/cv2\u001b[39;49m\u001b[38;5;124;43m\"\u001b[39;49m\u001b[43m)\u001b[49m\n",
      "\u001b[1;31mFileNotFoundError\u001b[0m: [WinError 3] The system cannot find the path specified: 'C:\\\\Users\\\\b\\\\mambaforge\\\\Lib\\\\site-packages/cv2'"
     ]
    }
   ],
   "source": [
    "import sysconfig\n",
    "import os\n",
    "os.listdir(sysconfig.get_paths()[\"purelib\"]+\"/cv2\")"
   ]
  },
  {
   "cell_type": "markdown",
   "id": "03522e3b",
   "metadata": {},
   "source": [
    "In this case you will definitely be missing the directory containing .... and ... and if you built with CUDA you will also be missing ... therefore before doing anything else "
   ]
  },
  {
   "cell_type": "code",
   "execution_count": null,
   "id": "95e48428",
   "metadata": {},
   "outputs": [],
   "source": []
  },
  {
   "cell_type": "markdown",
   "id": "59a7bc8c",
   "metadata": {},
   "source": [
    "## You have installed the python loader"
   ]
  },
  {
   "cell_type": "code",
   "execution_count": null,
   "id": "c651dd33",
   "metadata": {},
   "outputs": [],
   "source": []
  },
  {
   "cell_type": "markdown",
   "id": "f65dede8",
   "metadata": {},
   "source": [
    "When you built OpenCV with cmake you didn't pass OPENCV_SKIP_PYTHON_LOADER=ON and there is a cv2 directory inside site-packages/lib"
   ]
  },
  {
   "cell_type": "code",
   "execution_count": 7,
   "id": "1eb9fb08",
   "metadata": {},
   "outputs": [
    {
     "ename": "FileNotFoundError",
     "evalue": "[WinError 3] The system cannot find the path specified: 'C:\\\\Users\\\\b\\\\mambaforge\\\\Lib\\\\site-packages/cv2'",
     "output_type": "error",
     "traceback": [
      "\u001b[1;31m---------------------------------------------------------------------------\u001b[0m",
      "\u001b[1;31mFileNotFoundError\u001b[0m                         Traceback (most recent call last)",
      "Input \u001b[1;32mIn [7]\u001b[0m, in \u001b[0;36m<cell line: 3>\u001b[1;34m()\u001b[0m\n\u001b[0;32m      1\u001b[0m \u001b[38;5;28;01mimport\u001b[39;00m \u001b[38;5;21;01msysconfig\u001b[39;00m;\n\u001b[0;32m      2\u001b[0m \u001b[38;5;28;01mimport\u001b[39;00m \u001b[38;5;21;01mos\u001b[39;00m;\n\u001b[1;32m----> 3\u001b[0m \u001b[43mos\u001b[49m\u001b[38;5;241;43m.\u001b[39;49m\u001b[43mlistdir\u001b[49m\u001b[43m(\u001b[49m\u001b[43msysconfig\u001b[49m\u001b[38;5;241;43m.\u001b[39;49m\u001b[43mget_paths\u001b[49m\u001b[43m(\u001b[49m\u001b[43m)\u001b[49m\u001b[43m[\u001b[49m\u001b[38;5;124;43m\"\u001b[39;49m\u001b[38;5;124;43mpurelib\u001b[39;49m\u001b[38;5;124;43m\"\u001b[39;49m\u001b[43m]\u001b[49m\u001b[38;5;241;43m+\u001b[39;49m\u001b[38;5;124;43m\"\u001b[39;49m\u001b[38;5;124;43m/cv2\u001b[39;49m\u001b[38;5;124;43m\"\u001b[39;49m\u001b[43m)\u001b[49m\n",
      "\u001b[1;31mFileNotFoundError\u001b[0m: [WinError 3] The system cannot find the path specified: 'C:\\\\Users\\\\b\\\\mambaforge\\\\Lib\\\\site-packages/cv2'"
     ]
    }
   ],
   "source": [
    "import sysconfig;\n",
    "import os;\n",
    "os.listdir(sysconfig.get_paths()[\"purelib\"]+\"/cv2\")"
   ]
  },
  {
   "cell_type": "markdown",
   "id": "72de5581",
   "metadata": {},
   "source": [
    "The python loader script should have added the directory to ... and the CUDA SDK if you built with CUDA modules, so to track down the missing"
   ]
  },
  {
   "cell_type": "markdown",
   "id": "a19c2557",
   "metadata": {},
   "source": [
    "## Built OpenCV with OPENCV_SKIP_PYTHON_LOADER=ON"
   ]
  },
  {
   "cell_type": "markdown",
   "id": "a1dec298",
   "metadata": {},
   "source": [
    "Using the flag OPENCV_SKIP_PYTHON_LOADER=ON prevents the python bindings from being installed when you build install OpenCV, therefore there shouldn't be a cv2 directory insidde lib/site-sitepackages and you should see the following"
   ]
  },
  {
   "cell_type": "code",
   "execution_count": 9,
   "id": "e8bc8b64",
   "metadata": {},
   "outputs": [
    {
     "ename": "FileNotFoundError",
     "evalue": "[WinError 3] The system cannot find the path specified: 'C:\\\\Users\\\\b\\\\mambaforge\\\\Lib\\\\site-packages/cv2'",
     "output_type": "error",
     "traceback": [
      "\u001b[1;31m---------------------------------------------------------------------------\u001b[0m",
      "\u001b[1;31mFileNotFoundError\u001b[0m                         Traceback (most recent call last)",
      "Input \u001b[1;32mIn [9]\u001b[0m, in \u001b[0;36m<cell line: 3>\u001b[1;34m()\u001b[0m\n\u001b[0;32m      1\u001b[0m \u001b[38;5;28;01mimport\u001b[39;00m \u001b[38;5;21;01msysconfig\u001b[39;00m;\n\u001b[0;32m      2\u001b[0m \u001b[38;5;28;01mimport\u001b[39;00m \u001b[38;5;21;01mos\u001b[39;00m;\n\u001b[1;32m----> 3\u001b[0m \u001b[43mos\u001b[49m\u001b[38;5;241;43m.\u001b[39;49m\u001b[43mlistdir\u001b[49m\u001b[43m(\u001b[49m\u001b[43msysconfig\u001b[49m\u001b[38;5;241;43m.\u001b[39;49m\u001b[43mget_paths\u001b[49m\u001b[43m(\u001b[49m\u001b[43m)\u001b[49m\u001b[43m[\u001b[49m\u001b[38;5;124;43m\"\u001b[39;49m\u001b[38;5;124;43mpurelib\u001b[39;49m\u001b[38;5;124;43m\"\u001b[39;49m\u001b[43m]\u001b[49m\u001b[38;5;241;43m+\u001b[39;49m\u001b[38;5;124;43m\"\u001b[39;49m\u001b[38;5;124;43m/cv2\u001b[39;49m\u001b[38;5;124;43m\"\u001b[39;49m\u001b[43m)\u001b[49m\n",
      "\u001b[1;31mFileNotFoundError\u001b[0m: [WinError 3] The system cannot find the path specified: 'C:\\\\Users\\\\b\\\\mambaforge\\\\Lib\\\\site-packages/cv2'"
     ]
    }
   ],
   "source": [
    "import sysconfig;\n",
    "import os;\n",
    "os.listdir(sysconfig.get_paths()[\"purelib\"]+\"/cv2\")"
   ]
  },
  {
   "cell_type": "markdown",
   "id": "b7b057b8-d658-4243-af18-074bd056d416",
   "metadata": {},
   "source": [
    "then you enter something similar to the below in the command prompt before "
   ]
  },
  {
   "cell_type": "markdown",
   "id": "70b9ab57-5161-4825-97e3-fba7c167107e",
   "metadata": {},
   "source": [
    "set PYTHONPATH=\"OPENCV_BUILD_PATH/lib/python3/\"\n",
    "\n",
    "set PATH=\"OPENCV_BUID_PATH/bin\";%PATH%"
   ]
  },
  {
   "cell_type": "markdown",
   "id": "d2d28010-ff7c-4ada-89eb-40ef3f9d1898",
   "metadata": {},
   "source": [
    "or for my set up in python after PYTHONPATH has been parsed"
   ]
  },
  {
   "cell_type": "code",
   "execution_count": 17,
   "id": "8aa69c56-b896-48d5-a2bf-b209a16a1115",
   "metadata": {},
   "outputs": [],
   "source": [
    "import os\n",
    "OPENCV_BUID_PATH = \"D:/build/opencv/cuda_11_7_cc_8_6_ff_sym/\""
   ]
  },
  {
   "cell_type": "code",
   "execution_count": 18,
   "id": "e70f4064-b5eb-478a-a17f-b6f30ba18edd",
   "metadata": {},
   "outputs": [],
   "source": [
    "import sys\n",
    "sys.path.append(OPENCV_BUID_PATH + \"/lib/python3/\")\n",
    "sys.path.append(OPENCV_BUID_PATH + \"/bin/\")"
   ]
  },
  {
   "cell_type": "markdown",
   "id": "aa380427-04c5-46c8-82e2-1ed285d5efb9",
   "metadata": {},
   "source": [
    "Advice is to skip loader it is for stand alone distributions \n",
    "https://github.com/opencv/opencv/issues/13202#issuecomment-439730899\n",
    "Add python path\n",
    "Therefore the discussion assumes that the above is the method used for adding python etc."
   ]
  },
  {
   "cell_type": "code",
   "execution_count": 19,
   "id": "e50431b3-de71-4b14-b82c-8fd9acc0bc75",
   "metadata": {},
   "outputs": [
    {
     "ename": "ImportError",
     "evalue": "DLL load failed while importing cv2: The specified module could not be found.",
     "output_type": "error",
     "traceback": [
      "\u001b[1;31m---------------------------------------------------------------------------\u001b[0m",
      "\u001b[1;31mImportError\u001b[0m                               Traceback (most recent call last)",
      "Input \u001b[1;32mIn [19]\u001b[0m, in \u001b[0;36m<cell line: 1>\u001b[1;34m()\u001b[0m\n\u001b[1;32m----> 1\u001b[0m \u001b[38;5;28;01mimport\u001b[39;00m \u001b[38;5;21;01mcv2\u001b[39;00m\n",
      "\u001b[1;31mImportError\u001b[0m: DLL load failed while importing cv2: The specified module could not be found."
     ]
    }
   ],
   "source": [
    "import cv2"
   ]
  },
  {
   "cell_type": "markdown",
   "id": "dd040f31-a3a8-4adc-a8f2-3c8d708fdbf3",
   "metadata": {},
   "source": [
    "What's going on?  Although the message is quite explicit regarding the cause, it doesn't really help with finding a solution.  In a nutshell python has found .pyd (shared lib), tried and failed to load it because a it can't find a dependant shared library.  Now the advice I have seen online regarding this is to dig out trusty dependancy walker, load the .pyd and see which dependencies the system can't find.\n",
    "\n",
    "Now this is solid advice if we had a C++ application and/or we were using python < 3.8 (which uses the system/user path for dll re), however we are not, so even if dependency walker can't detect any problems we may still be facing the above error.\n",
    "\n",
    "So what to do, well quick a quick and dirty solution is, if you are pretty sure of the folders containing your missing dll's, just add them to the dll search path in python and see if this reolves your issue.  For example if you have built with CUDA \n",
    "then unless you are using something like annaconda, you will need to add the directory containing opencv and hash (bin) and the directory containing the Nvidia shared libs.\n",
    "\n",
    "\n",
    "you are most likely facing this error becuase the dll's inside C:/Program Files/NVIDIA GPU Computing Toolkit/CUDA/vMAJOR.MINOR/bin cannot be found, so you could try"
   ]
  },
  {
   "cell_type": "code",
   "execution_count": 5,
   "id": "3a905b3a-0baf-4438-82bd-15585488a586",
   "metadata": {},
   "outputs": [],
   "source": [
    "import os;\n",
    "os.add_dll_directory(OPENCV_BUID_PATH + \"/bin/\");\n",
    "os.add_dll_directory(\"C:\\\\Program Files\\\\NVIDIA GPU Computing Toolkit\\\\CUDA\\\\v11.7\\\\bin\");\n",
    "os.add_dll_directory(\"D:\\\\3rd_party\\\\deps\\\\ffmpeg-n5.0-latest-win64-gpl-shared-5.0\\\\bin\")\n",
    "import cv2"
   ]
  },
  {
   "cell_type": "markdown",
   "id": "0556ed07-244b-4351-a659-87f238ef3013",
   "metadata": {},
   "source": [
    "In my case this solved the problem but what do you do if you don't know exactly what dll's are missing, well thanks to alec suggestion you can use process monitor https://docs.microsoft.com/en-us/sysinternals/downloads/procmon on windows to track down the problem.  With process monitor you can track the files are opened on the call to import cv2 and see exactly which dll can't be found.\n",
    "\n",
    "\n",
    "\n"
   ]
  },
  {
   "cell_type": "code",
   "execution_count": null,
   "id": "7a7e1cec-d9b0-45d6-96c9-6d90b240c002",
   "metadata": {},
   "outputs": [],
   "source": [
    "sys."
   ]
  },
  {
   "cell_type": "markdown",
   "id": "2fa0ef18-6a5d-4ec2-9eec-53b0998b22c1",
   "metadata": {},
   "source": [
    "### Using Process Monitor fo find the missing dll"
   ]
  },
  {
   "cell_type": "markdown",
   "id": "2e87bb2c-2894-4b7b-b6cd-cb1d831d71e4",
   "metadata": {},
   "source": [
    "First download/extract/run process monitor. On opening you will be presented with the option to filter the output.  We only want to see files which are accesses by the python.exe process, therefore the filter options are\n",
    "\n",
    "On the dropdown select \"Process Name\" and in the text box type python.exe and click Add - Process explorer will by defualt output for all processes this will reduce this down to just python.  \n",
    "\n",
    "Then \"Operation\" is CreateFile -> this \n",
    "\n",
    "Process monitor produces a lot of output, these settings should filter for \n",
    "\n",
    "To make things easy to read make sure no other python process are running."
   ]
  },
  {
   "cell_type": "markdown",
   "id": "f50e1a35-ed8e-4e1a-b0e9-5082141f1e74",
   "metadata": {},
   "source": [
    "![title](imgs/proc_mon_filter.png)"
   ]
  },
  {
   "cell_type": "markdown",
   "id": "d48f1533-76da-4985-8c1d-beaa17ce7d81",
   "metadata": {},
   "source": [
    "Now start python and before typing import cv2, press the clear button (red trash can) in process monitor to clear any output generated during pythons initialization."
   ]
  },
  {
   "cell_type": "markdown",
   "id": "844f62eb-7f59-4fa7-8f99-4e878fc0a667",
   "metadata": {},
   "source": [
    "![title](imgs/proc_mon_failed_search_opencv.png)"
   ]
  },
  {
   "cell_type": "markdown",
   "id": "5519ca3f-a004-4099-8e42-e9ed90c0b0b8",
   "metadata": {},
   "source": [
    "The output shows that we successfully found cv2.cp..... which is why were not seeing ModuleNotFoundError: No module named 'cv2' however it also shows several attempts have been made to locate opencv_img_hash_460.dll and opencv_world460.dll without success even though they are on the search path.  Since Python 3.8.... \n",
    "Therefore we add"
   ]
  },
  {
   "cell_type": "code",
   "execution_count": 6,
   "id": "db489147-2ea4-438e-bfeb-8faafabbdc92",
   "metadata": {},
   "outputs": [],
   "source": [
    "import os;\n",
    "os.add_dll_directory(OPENCV_BUID_PATH + \"/bin/\");"
   ]
  },
  {
   "cell_type": "code",
   "execution_count": 7,
   "id": "644b7652-ac22-4538-bf53-84d987f2842b",
   "metadata": {},
   "outputs": [
    {
     "ename": "ImportError",
     "evalue": "DLL load failed while importing cv2: The specified module could not be found.",
     "output_type": "error",
     "traceback": [
      "\u001b[1;31m---------------------------------------------------------------------------\u001b[0m",
      "\u001b[1;31mImportError\u001b[0m                               Traceback (most recent call last)",
      "Input \u001b[1;32mIn [7]\u001b[0m, in \u001b[0;36m<cell line: 1>\u001b[1;34m()\u001b[0m\n\u001b[1;32m----> 1\u001b[0m \u001b[38;5;28;01mimport\u001b[39;00m \u001b[38;5;21;01mcv2\u001b[39;00m\n",
      "\u001b[1;31mImportError\u001b[0m: DLL load failed while importing cv2: The specified module could not be found."
     ]
    }
   ],
   "source": [
    "import cv2"
   ]
  },
  {
   "cell_type": "markdown",
   "id": "f081282d-4a50-4d7e-af6b-fee7cced09df",
   "metadata": {},
   "source": [
    "![title](imgs/proc_mon_failed_search_nvidia.png)"
   ]
  },
  {
   "cell_type": "markdown",
   "id": "90e9fdc7-f159-4c00-b80a-2329b39dbdb7",
   "metadata": {},
   "source": [
    "Now can see that opencv_img_hash_460.dll and opencv_world460.dll after a few attempts were located successfully however we are missing nppc64_11.dll etc. which are all part of the CUDA toolkit.  The solution add these as well and"
   ]
  },
  {
   "cell_type": "code",
   "execution_count": 10,
   "id": "16f8a8fd-a651-4192-87db-ef5de3e93eab",
   "metadata": {},
   "outputs": [],
   "source": [
    "import os;\n",
    "os.add_dll_directory(\"C:\\\\Program Files\\\\NVIDIA GPU Computing Toolkit\\\\CUDA\\\\v11.7\\\\bin\");\n",
    "os.add_dll_directory(\"D:\\\\3rd_party\\\\deps\\\\ffmpeg-n5.0-latest-win64-gpl-shared-5.0\\\\bin\")\n",
    "import cv2"
   ]
  },
  {
   "cell_type": "markdown",
   "id": "a9f12754-db3e-46ca-ba05-e222c5999761",
   "metadata": {},
   "source": [
    "and in my case no more errors.  At this point if I was still seeing ImportError: DLL load failed while importing cv2: The specified module could not be found I would continue examining the output of process monitor until I get Result SUCCESS for all the .dll files python.exe tries to locate."
   ]
  },
  {
   "cell_type": "markdown",
   "id": "731d0394",
   "metadata": {},
   "source": [
    "## Permanantely fixing"
   ]
  },
  {
   "cell_type": "markdown",
   "id": "66a5d1ea",
   "metadata": {},
   "source": [
    "### Updating OpenCV's installed python loader"
   ]
  },
  {
   "cell_type": "markdown",
   "id": "4ddcaf2d",
   "metadata": {},
   "source": [
    "When OpenCV was installed .... only downside is that if you build install OpenCV again your changes will be lost"
   ]
  },
  {
   "cell_type": "markdown",
   "id": "a4a45d57",
   "metadata": {},
   "source": [
    "### Creating python loader"
   ]
  },
  {
   "cell_type": "markdown",
   "id": "3c41b6a0",
   "metadata": {},
   "source": [
    "If you have installed the python bindings already this will feel a little bit like re-inventing the wheel, but it has the advantage that you can quickly modify a single file to point to access python bindings for a different OpenCV build without too much trouble and your configuration shouldn't get overidden"
   ]
  },
  {
   "cell_type": "markdown",
   "id": "56a56f28",
   "metadata": {},
   "source": [
    "Recursion detected, when python .pyd is missing, check new install includes it, if not copy to lib/python to cv2/python-3.9 directory\n",
    "How to init\n"
   ]
  },
  {
   "cell_type": "code",
   "execution_count": null,
   "id": "8651744a",
   "metadata": {},
   "outputs": [],
   "source": []
  }
 ],
 "metadata": {
  "kernelspec": {
   "display_name": "Python 3 (ipykernel)",
   "language": "python",
   "name": "python3"
  },
  "language_info": {
   "codemirror_mode": {
    "name": "ipython",
    "version": 3
   },
   "file_extension": ".py",
   "mimetype": "text/x-python",
   "name": "python",
   "nbconvert_exporter": "python",
   "pygments_lexer": "ipython3",
   "version": "3.9.13"
  },
  "toc": {
   "base_numbering": 1,
   "nav_menu": {},
   "number_sections": true,
   "sideBar": true,
   "skip_h1_title": false,
   "title_cell": "Table of Contents",
   "title_sidebar": "Contents",
   "toc_cell": false,
   "toc_position": {},
   "toc_section_display": true,
   "toc_window_display": false
  },
  "varInspector": {
   "cols": {
    "lenName": 16,
    "lenType": 16,
    "lenVar": 40
   },
   "kernels_config": {
    "python": {
     "delete_cmd_postfix": "",
     "delete_cmd_prefix": "del ",
     "library": "var_list.py",
     "varRefreshCmd": "print(var_dic_list())"
    },
    "r": {
     "delete_cmd_postfix": ") ",
     "delete_cmd_prefix": "rm(",
     "library": "var_list.r",
     "varRefreshCmd": "cat(var_dic_list()) "
    }
   },
   "types_to_exclude": [
    "module",
    "function",
    "builtin_function_or_method",
    "instance",
    "_Feature"
   ],
   "window_display": false
  }
 },
 "nbformat": 4,
 "nbformat_minor": 5
}
