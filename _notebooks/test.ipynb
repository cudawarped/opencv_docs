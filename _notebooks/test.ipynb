{
 "cells": [
  {
   "cell_type": "markdown",
   "id": "6973dcb4-2e8a-409c-a147-291c8520fb18",
   "metadata": {},
   "source": [
    "# Other\n",
    "> Fix common OpenCV python DLL load failed error when building python bindings from source\n",
    "\n",
    "- toc: true \n",
    "- badges: true\n",
    "- comments: true\n",
    "- sticky_rank: 1\n",
    "- author: cudawarped\n",
    "- image: images/diagram.png\n",
    "- categories: [opencv, cuda, python]"
   ]
  },
  {
   "cell_type": "markdown",
   "id": "0f79e94d-bc84-4f09-a4a9-90be2e41388e",
   "metadata": {},
   "source": [
    "So your on Windows using python >= 3.8, you have built OpenCV >= 4.6 from source, manually copied .. python path them to your distributions site... directory, added the path to the directory containing opencv.dll and any other shared library dependencies and your seeing something similar to the following."
   ]
  },
  {
   "cell_type": "code",
   "execution_count": 1,
   "id": "53efd81a",
   "metadata": {},
   "outputs": [
    {
     "ename": "ModuleNotFoundError",
     "evalue": "No module named 'cv2'",
     "output_type": "error",
     "traceback": [
      "\u001b[1;31m---------------------------------------------------------------------------\u001b[0m",
      "\u001b[1;31mModuleNotFoundError\u001b[0m                       Traceback (most recent call last)",
      "Input \u001b[1;32mIn [1]\u001b[0m, in \u001b[0;36m<cell line: 3>\u001b[1;34m()\u001b[0m\n\u001b[0;32m      1\u001b[0m \u001b[38;5;66;03m#import os\u001b[39;00m\n\u001b[0;32m      2\u001b[0m \u001b[38;5;66;03m#os.environ[\"OpenCV_LOADER_DEBUG\"]=\"1\"\u001b[39;00m\n\u001b[1;32m----> 3\u001b[0m \u001b[38;5;28;01mimport\u001b[39;00m \u001b[38;5;21;01mcv2\u001b[39;00m\n",
      "\u001b[1;31mModuleNotFoundError\u001b[0m: No module named 'cv2'"
     ]
    }
   ],
   "source": [
    "#import os\n",
    "#os.environ[\"OpenCV_LOADER_DEBUG\"]=\"1\"\n",
    "import cv2"
   ]
  },
  {
   "cell_type": "markdown",
   "id": "c1cda3f1",
   "metadata": {},
   "source": [
    "What's going on? Although the message is quite explicit regarding the cause, it doesn't really help with finding a solution. In a nutshell python has found .pyd (shared lib), tried and failed to load it because a it can't find a dependant shared library. Now the advice I have seen online regarding this is to dig out trusty dependancy walker, load the .pyd and see which dependencies the system can't find.\n",
    "\n",
    "Now this is solid advice if we had a C++ application and/or we were using python < 3.8 (which uses the system/user path for dll re), however we are not, so even if dependency walker can't detect any problems we may still be facing the above error."
   ]
  },
  {
   "cell_type": "markdown",
   "id": "18b82beb",
   "metadata": {},
   "source": [
    "There is a missing dll, which needs to be added with ... before calling import cv2, now if you have installed the python loader with OpenCV then you will likeliy need to search with .... to find it, however if you have not you may be able to try the quick fix below may work for you\n"
   ]
  },
  {
   "cell_type": "markdown",
   "id": "bfa433ce",
   "metadata": {},
   "source": [
    "### Quick fix when not using the OpenCV python loader"
   ]
  },
  {
   "cell_type": "markdown",
   "id": "d02036a5",
   "metadata": {},
   "source": [
    "Using the flag OPENCV_SKIP_PYTHON_LOADER=ON prevents the python bindings from being installed when you build install OpenCV, therefore depending on how you installed cv2 there shouldn't be a cv2 directory inside lib/site-sitepackages and you should something similar to the following"
   ]
  },
  {
   "cell_type": "markdown",
   "id": "71e1e075",
   "metadata": {},
   "source": [
    "There are multiple reasons that the OpenCV python loader may be missing\n",
    "1) You didn't build install\n",
    "\n",
    "2) OPENCV_SKIP_PYTHON_LOADER=ON was passed to cmake\n",
    "\n",
    "3) The lib/site-packages/cv2 diretory was deleted\n",
    "\n",
    "Whatever the reason if you are seeing the above error you have likely manually \"installed\" the python bindings either with\n",
    "\n",
    "1) set PYTHONPATH=\"OPENCV_BUILD_PATH/lib/python3/\"\n",
    "\n",
    "2) or by manually copying .... pyd to the lib/site-packages/\n",
    "\n",
    "Whichever way this was performed, you will be missing (unless your using a distribution which automatically adds .. directories from the path to the dll search path)\n",
    "\n",
    "os.add_dll_directory(\"OPENCV_BUID_PATH/bin/\");\n",
    "\n",
    "in this case there will be at least one dll search path which needs to be added."
   ]
  },
  {
   "cell_type": "code",
   "execution_count": 24,
   "id": "09514628",
   "metadata": {},
   "outputs": [
    {
     "ename": "ImportError",
     "evalue": "DLL load failed while importing cv2: The specified module could not be found.",
     "output_type": "error",
     "traceback": [
      "\u001b[1;31m---------------------------------------------------------------------------\u001b[0m",
      "\u001b[1;31mImportError\u001b[0m                               Traceback (most recent call last)",
      "Input \u001b[1;32mIn [24]\u001b[0m, in \u001b[0;36m<cell line: 5>\u001b[1;34m()\u001b[0m\n\u001b[0;32m      3\u001b[0m OPENCV_BUID_PATH \u001b[38;5;241m=\u001b[39m \u001b[38;5;124m\"\u001b[39m\u001b[38;5;124mD:/build/opencv/cuda_11_7_cc_8_6_ff_sym/\u001b[39m\u001b[38;5;124m\"\u001b[39m\n\u001b[0;32m      4\u001b[0m os\u001b[38;5;241m.\u001b[39madd_dll_directory(OPENCV_BUID_PATH \u001b[38;5;241m+\u001b[39m \u001b[38;5;124m\"\u001b[39m\u001b[38;5;124m/bin/\u001b[39m\u001b[38;5;124m\"\u001b[39m);\n\u001b[1;32m----> 5\u001b[0m \u001b[38;5;28;01mimport\u001b[39;00m \u001b[38;5;21;01mcv2\u001b[39;00m\n",
      "\u001b[1;31mImportError\u001b[0m: DLL load failed while importing cv2: The specified module could not be found."
     ]
    }
   ],
   "source": [
    "#collapse-output\n",
    "import os;\n",
    "OPENCV_BUID_PATH = \"D:/build/opencv/cuda_11_7_cc_8_6_ff_sym/\"\n",
    "os.add_dll_directory(OPENCV_BUID_PATH + \"/bin/\");\n",
    "import cv2"
   ]
  },
  {
   "cell_type": "markdown",
   "id": "b15a99b0",
   "metadata": {},
   "source": [
    "If that didn't work and you are using the CUDA modules you will also need to add \n",
    "os.add_dll_directory(\"C:\\\\Program Files\\\\NVIDIA GPU Computing Toolkit\\\\CUDA\\\\v11.7\\\\bin\");, if that doesn't work then you need to locate the missing dll and manually add it, seee ..."
   ]
  },
  {
   "cell_type": "code",
   "execution_count": 25,
   "id": "045f9c27",
   "metadata": {},
   "outputs": [
    {
     "ename": "ImportError",
     "evalue": "DLL load failed while importing cv2: The specified module could not be found.",
     "output_type": "error",
     "traceback": [
      "\u001b[1;31m---------------------------------------------------------------------------\u001b[0m",
      "\u001b[1;31mImportError\u001b[0m                               Traceback (most recent call last)",
      "Input \u001b[1;32mIn [25]\u001b[0m, in \u001b[0;36m<cell line: 3>\u001b[1;34m()\u001b[0m\n\u001b[0;32m      1\u001b[0m \u001b[38;5;66;03m#collapse-output\u001b[39;00m\n\u001b[0;32m      2\u001b[0m os\u001b[38;5;241m.\u001b[39madd_dll_directory(\u001b[38;5;124m\"\u001b[39m\u001b[38;5;124mC:\u001b[39m\u001b[38;5;130;01m\\\\\u001b[39;00m\u001b[38;5;124mProgram Files\u001b[39m\u001b[38;5;130;01m\\\\\u001b[39;00m\u001b[38;5;124mNVIDIA GPU Computing Toolkit\u001b[39m\u001b[38;5;130;01m\\\\\u001b[39;00m\u001b[38;5;124mCUDA\u001b[39m\u001b[38;5;130;01m\\\\\u001b[39;00m\u001b[38;5;124mv11.7\u001b[39m\u001b[38;5;130;01m\\\\\u001b[39;00m\u001b[38;5;124mbin\u001b[39m\u001b[38;5;124m\"\u001b[39m);\n\u001b[1;32m----> 3\u001b[0m \u001b[38;5;28;01mimport\u001b[39;00m \u001b[38;5;21;01mcv2\u001b[39;00m\n",
      "\u001b[1;31mImportError\u001b[0m: DLL load failed while importing cv2: The specified module could not be found."
     ]
    }
   ],
   "source": [
    "#collapse-output\n",
    "os.add_dll_directory(\"C:\\\\Program Files\\\\NVIDIA GPU Computing Toolkit\\\\CUDA\\\\v11.7\\\\bin\");\n",
    "import cv2"
   ]
  },
  {
   "cell_type": "code",
   "execution_count": 13,
   "id": "9eb31868",
   "metadata": {},
   "outputs": [
    {
     "ename": "FileNotFoundError",
     "evalue": "[WinError 3] The system cannot find the path specified: 'C:\\\\Users\\\\b\\\\mambaforge\\\\Lib\\\\site-packages/cv2'",
     "output_type": "error",
     "traceback": [
      "\u001b[1;31m---------------------------------------------------------------------------\u001b[0m",
      "\u001b[1;31mFileNotFoundError\u001b[0m                         Traceback (most recent call last)",
      "Input \u001b[1;32mIn [13]\u001b[0m, in \u001b[0;36m<cell line: 3>\u001b[1;34m()\u001b[0m\n\u001b[0;32m      1\u001b[0m \u001b[38;5;28;01mimport\u001b[39;00m \u001b[38;5;21;01msysconfig\u001b[39;00m\n\u001b[0;32m      2\u001b[0m \u001b[38;5;28;01mimport\u001b[39;00m \u001b[38;5;21;01mos\u001b[39;00m\n\u001b[1;32m----> 3\u001b[0m \u001b[43mos\u001b[49m\u001b[38;5;241;43m.\u001b[39;49m\u001b[43mlistdir\u001b[49m\u001b[43m(\u001b[49m\u001b[43msysconfig\u001b[49m\u001b[38;5;241;43m.\u001b[39;49m\u001b[43mget_paths\u001b[49m\u001b[43m(\u001b[49m\u001b[43m)\u001b[49m\u001b[43m[\u001b[49m\u001b[38;5;124;43m\"\u001b[39;49m\u001b[38;5;124;43mpurelib\u001b[39;49m\u001b[38;5;124;43m\"\u001b[39;49m\u001b[43m]\u001b[49m\u001b[38;5;241;43m+\u001b[39;49m\u001b[38;5;124;43m\"\u001b[39;49m\u001b[38;5;124;43m/cv2\u001b[39;49m\u001b[38;5;124;43m\"\u001b[39;49m\u001b[43m)\u001b[49m\n",
      "\u001b[1;31mFileNotFoundError\u001b[0m: [WinError 3] The system cannot find the path specified: 'C:\\\\Users\\\\b\\\\mambaforge\\\\Lib\\\\site-packages/cv2'"
     ]
    }
   ],
   "source": [
    "import sysconfig\n",
    "import os\n",
    "os.listdir(sysconfig.get_paths()[\"purelib\"]+\"/cv2\")"
   ]
  },
  {
   "cell_type": "markdown",
   "id": "03522e3b",
   "metadata": {},
   "source": [
    "In this case you will definitely be missing the directory containing .... and ... and if you built with CUDA you will also be missing ... therefore before doing anything else "
   ]
  },
  {
   "cell_type": "code",
   "execution_count": null,
   "id": "95e48428",
   "metadata": {},
   "outputs": [],
   "source": []
  },
  {
   "cell_type": "markdown",
   "id": "59a7bc8c",
   "metadata": {},
   "source": [
    "## You have installed the python loader"
   ]
  },
  {
   "cell_type": "code",
   "execution_count": null,
   "id": "c651dd33",
   "metadata": {},
   "outputs": [],
   "source": []
  }
 ],
 "metadata": {
  "kernelspec": {
   "display_name": "Python 3 (ipykernel)",
   "language": "python",
   "name": "python3"
  },
  "language_info": {
   "codemirror_mode": {
    "name": "ipython",
    "version": 3
   },
   "file_extension": ".py",
   "mimetype": "text/x-python",
   "name": "python",
   "nbconvert_exporter": "python",
   "pygments_lexer": "ipython3",
   "version": "3.9.13"
  },
  "toc": {
   "base_numbering": 1,
   "nav_menu": {},
   "number_sections": true,
   "sideBar": true,
   "skip_h1_title": false,
   "title_cell": "Table of Contents",
   "title_sidebar": "Contents",
   "toc_cell": false,
   "toc_position": {},
   "toc_section_display": true,
   "toc_window_display": false
  },
  "varInspector": {
   "cols": {
    "lenName": 16,
    "lenType": 16,
    "lenVar": 40
   },
   "kernels_config": {
    "python": {
     "delete_cmd_postfix": "",
     "delete_cmd_prefix": "del ",
     "library": "var_list.py",
     "varRefreshCmd": "print(var_dic_list())"
    },
    "r": {
     "delete_cmd_postfix": ") ",
     "delete_cmd_prefix": "rm(",
     "library": "var_list.r",
     "varRefreshCmd": "cat(var_dic_list()) "
    }
   },
   "types_to_exclude": [
    "module",
    "function",
    "builtin_function_or_method",
    "instance",
    "_Feature"
   ],
   "window_display": false
  }
 },
 "nbformat": 4,
 "nbformat_minor": 5
}
